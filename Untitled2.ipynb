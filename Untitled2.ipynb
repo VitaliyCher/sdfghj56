{
 "cells": [
  {
   "cell_type": "code",
   "execution_count": 24,
   "id": "3ae2fe7e",
   "metadata": {},
   "outputs": [
    {
     "name": "stdout",
     "output_type": "stream",
     "text": [
      "Data:  Genesis Block\n",
      "Timestamp:  2024-02-18 19:16:11.216836\n",
      "Hash:  9aa93d67be20e36f4c4e080842b47e662b9512bff9643b0b51580e8f86c22b46\n",
      "Previuos Hash:  0\n",
      "\n",
      "Data:  {'data': 'Transaction 1'}\n",
      "Timestamp:  2024-02-18 19:16:11.216836\n",
      "Hash:  78f0bfb78a6f86b653734f1dd1046e3a65e553b5bc7393f9566a3fdf9782cff9\n",
      "Previuos Hash:  9aa93d67be20e36f4c4e080842b47e662b9512bff9643b0b51580e8f86c22b46\n",
      "\n",
      "Data:  {'data': 'Transaction 2'}\n",
      "Timestamp:  2024-02-18 19:16:11.216836\n",
      "Hash:  721ca900c57e5146658f202574a33721d5e84fe0fff2a40490cd65cbff4b1196\n",
      "Previuos Hash:  78f0bfb78a6f86b653734f1dd1046e3a65e553b5bc7393f9566a3fdf9782cff9\n",
      "\n",
      "Data:  {'data': 'Transaction 3'}\n",
      "Timestamp:  2024-02-18 19:16:11.217837\n",
      "Hash:  d2508d664ac3df0c16a0a306386bac61857d0df9e5202096891d26a82a1e151e\n",
      "Previuos Hash:  721ca900c57e5146658f202574a33721d5e84fe0fff2a40490cd65cbff4b1196\n",
      "\n"
     ]
    }
   ],
   "source": [
    "import hashlib\n",
    "import datetime\n",
    "\n",
    "class block:\n",
    "    def __init__(self, timestamp, data, previous_hash):\n",
    "        self.timestamp = timestamp\n",
    "        self.previous_hash = previous_hash\n",
    "        self.data = data\n",
    "        self.hash = self.calculate_hash()\n",
    "        \n",
    "    def calculate_hash(self):\n",
    "        hash_string = str(self.timestamp) + str(self.data) + str(self.previous_hash)\n",
    "        return hashlib.sha256(hash_string.encode()).hexdigest()\n",
    "myBlock = block(datetime.datetime.now(), {\"data\":\"Transaction 1\"}, \"\")\n",
    "class Blockchain:\n",
    "    def __init__(self):\n",
    "        self.chain = [self.create_genesis_block()]\n",
    "    def create_genesis_block(self):\n",
    "        return block(datetime.datetime.now(), \"Genesis Block\",\"0\")\n",
    "    def add_block(self, new_block):\n",
    "        new_block.previous_hash = self.chain[-1].hash\n",
    "        new_block.hash = new_block.calculate_hash()\n",
    "        self.chain.append(new_block)\n",
    "    def is_chain_valid():\n",
    "        for i in range(1, len(self.chain)):\n",
    "            current_block = self.chain[i]\n",
    "            previous_block = self.chain[i-1]\n",
    "            if current_block.hash != current_block.calculate_hash():\n",
    "                return False\n",
    "            if current_block.previous_hash != previuos_block.hash:\n",
    "                return False\n",
    "        return True\n",
    "demo_blockchain = Blockchain()\n",
    "demo_blockchain.add_block(block(datetime.datetime.now(), {\"data\": \"Transaction 1\"}, \"\"))\n",
    "demo_blockchain.add_block(block(datetime.datetime.now(), {\"data\": \"Transaction 2\"}, \"\"))\n",
    "demo_blockchain.add_block(block(datetime.datetime.now(), {\"data\": \"Transaction 3\"}, \"\"))\n",
    "\n",
    "for block in demo_blockchain.chain:\n",
    "    print(\"Data: \", block.data)\n",
    "    print(\"Timestamp: \", block.timestamp)\n",
    "    print(\"Hash: \", block.hash)\n",
    "    print(\"Previuos Hash: \", block.previous_hash)\n",
    "    print()"
   ]
  },
  {
   "cell_type": "code",
   "execution_count": null,
   "id": "38637823",
   "metadata": {},
   "outputs": [],
   "source": []
  }
 ],
 "metadata": {
  "kernelspec": {
   "display_name": "Python 3 (ipykernel)",
   "language": "python",
   "name": "python3"
  },
  "language_info": {
   "codemirror_mode": {
    "name": "ipython",
    "version": 3
   },
   "file_extension": ".py",
   "mimetype": "text/x-python",
   "name": "python",
   "nbconvert_exporter": "python",
   "pygments_lexer": "ipython3",
   "version": "3.11.5"
  }
 },
 "nbformat": 4,
 "nbformat_minor": 5
}
